{
 "cells": [
  {
   "cell_type": "code",
   "execution_count": null,
   "metadata": {},
   "outputs": [],
   "source": [
    "import pandas as pd\n",
    "import numpy as np\n",
    "import re\n",
    "import nltk"
   ]
  },
  {
   "cell_type": "markdown",
   "metadata": {},
   "source": [
    "## Code for extracting \"impression\" section using regular expression. "
   ]
  },
  {
   "cell_type": "code",
   "execution_count": 365,
   "metadata": {},
   "outputs": [],
   "source": [
    "df_pn = pd.read_csv(\"data/Potential_negative.csv\")\n",
    "df_pp = pd.read_csv(\"data/Potential_positive.csv\")"
   ]
  },
  {
   "cell_type": "code",
   "execution_count": 398,
   "metadata": {
    "scrolled": true
   },
   "outputs": [],
   "source": [
    "\n",
    "impressions = []\n",
    "bad_list = ['Findings were discussed','Findings discussed','Findings reported','Findings communicated',\n",
    "            'findings were communicated','The above findings','Please contact the interpreting',\n",
    "            'findings of the study','via telephone','recommendations were discussed','information was discussed',\n",
    "            'discussed with Dr.','communicated to Dr.','reviewed with Dr.','called with these results',\n",
    "            'was notified','Findings were communicated','findings were conveyed to',\n",
    "            'Up-to-date CT equipment','If this radiology report', 'DLP:','CTDIvol:','have reviewed the examination',\n",
    "            'Red Document','LS1R','WY2R','Fleischner','Fleischer','Resident/Fellow',\n",
    "            'PowerConnect', 'PowerScribe','Workstation ID','1H',\n",
    "            'Note: These guidelines do not apply','For comments and reference','For information about',\n",
    "            'See below recommendations','100','80','UN1','(Incidental alert)','Findings were conveyed','Message ID',\n",
    "            '____','US2','UN2','Receipt of this communication by','findings were discussed','discussed with',\n",
    "            'call ED radiology', 'reported to Dr.','Orange Alert', 'Orange alert','called with these findings',\n",
    "            'ED message','Please see below','Please see separate report','----','guidelines for follow-up'\n",
    "            ]\n",
    "\n",
    "\n",
    "def extract(df):\n",
    "    impressions = []\n",
    "    for index, row in df.iterrows():\n",
    "        an = row['Accession Number']\n",
    "        sex = row['Patient Sex']\n",
    "        age = row['Patient Age']\n",
    "        date = row['Ordered Date']\n",
    "        report = row['Report Text']\n",
    "        start = '(IMPRESSION:|Impression:)' #HOW THE IMPRESSION SECTION STARTS\n",
    "\n",
    "        main = '((.|\\n|\\r)+?)' #ALL THE CONTENT INSIDE\n",
    "        end = '(\\n[A-Z][A-Z]+:|$|\\n(?<![A-Z\\d])(?!1\\d{3}\\b)[A-Z\\d]{4,}(?![A-Z\\d])|A: Solid Nodules|B: Subsolid Nodules|<6 mm|Reference:)' #HOW IMPRESSION SECTION ENDS\n",
    "        m = re.search(start + main+end, report)\n",
    "        if m:\n",
    "            found = m.group(2)\n",
    "            print(\"@@@@@@@@\", index, \"@@@@@@@\")\n",
    "#             print(found)\n",
    "            print(\" \")\n",
    "\n",
    "            #get rid of extra whitespaces, extra newlines, tabs, etc. \n",
    "\n",
    "            found = found.strip() #gets rid of newlines on its own.\n",
    "            found = re.sub(' +', ' ', found) \n",
    "            found = re.sub(r'(\\n\\s\\r*)+\\n', '\\n', found)\n",
    "            found = re.sub(r'\\n \\n','\\n',found)\n",
    "            found = re.sub(r'\\n+','\\n',found)\n",
    "            found = re.sub(r'\\t',' ',found)\n",
    "\n",
    "            #MORE DATA CLEANING\n",
    "    #         found = re.sub(r'\\n_+\\n','\\n',found)\n",
    "    #         found = re.sub(r'\\n_+$','',found)\n",
    "\n",
    "#             found = re.sub(r'(?<![!.,])\\n', '.\\n', found)\n",
    "            found = found.strip()\n",
    "\n",
    "            found = nltk.sent_tokenize(found)\n",
    "\n",
    "            filtered_list = []\n",
    "\n",
    "            for sent in found:\n",
    "                if not any(x in sent for x in bad_list) and not sent == '.' and not sent == 'Single.' and not sent == 'Multiple.' and not sent == 'Multiple' and not sent == 'Single':\n",
    "                    filtered_list.append(sent)\n",
    "            \n",
    "            print(filtered_list[-1])\n",
    "            \n",
    "            found = \"\\n\".join(filtered_list)\n",
    "#             print(found)\n",
    "            impressions.append([an,found, sex, age, date])\n",
    "        else:\n",
    "            print(\"ERROR\")\n",
    "    return impressions"
   ]
  },
  {
   "cell_type": "code",
   "execution_count": 2,
   "metadata": {},
   "outputs": [],
   "source": [
    "# pn_impressions = extract(df_pn)\n",
    "# pp_impressions = extract(df_pp)"
   ]
  },
  {
   "cell_type": "code",
   "execution_count": 1,
   "metadata": {},
   "outputs": [],
   "source": [
    "# pn_impressions"
   ]
  },
  {
   "cell_type": "code",
   "execution_count": 354,
   "metadata": {},
   "outputs": [],
   "source": [
    "df_pn_impressions = pd.DataFrame(pn_impressions, columns=['Accession Number', 'Impression', 'Parient Sex', 'Patient Age', 'Ordered Date'])\n",
    "df_pn_impressions = df_pn_impressions.sample(frac=1)\n",
    "df_pp_impressions = pd.DataFrame(pp_impressions, columns=['Accession Number', 'Impression', 'Parient Sex', 'Patient Age', 'Ordered Date'])\n",
    "df_pp_impressions = df_pp_impressions.sample(frac=1)"
   ]
  },
  {
   "cell_type": "code",
   "execution_count": 355,
   "metadata": {},
   "outputs": [],
   "source": [
    "df_pn_impressions.to_csv(\"data/potential_negative_impressions.csv\", index=False)\n",
    "df_pp_impressions.to_csv(\"data/potential_positive_impressions.csv\", index=False)"
   ]
  },
  {
   "cell_type": "markdown",
   "metadata": {},
   "source": [
    "## Creating txt files"
   ]
  },
  {
   "cell_type": "code",
   "execution_count": 130,
   "metadata": {},
   "outputs": [],
   "source": [
    "for index, row in df_pn_impressions.iterrows():\n",
    "    an = row['Accession Number']\n",
    "    f = open('pn_impression_txt_files/'+str(an)+'_imp.txt', 'w')\n",
    "    f.write(row['Report Text'])\n",
    "    f.close()"
   ]
  },
  {
   "cell_type": "code",
   "execution_count": null,
   "metadata": {},
   "outputs": [],
   "source": []
  },
  {
   "cell_type": "code",
   "execution_count": null,
   "metadata": {},
   "outputs": [],
   "source": []
  }
 ],
 "metadata": {
  "kernelspec": {
   "display_name": "Python 3",
   "language": "python",
   "name": "python3"
  },
  "language_info": {
   "codemirror_mode": {
    "name": "ipython",
    "version": 3
   },
   "file_extension": ".py",
   "mimetype": "text/x-python",
   "name": "python",
   "nbconvert_exporter": "python",
   "pygments_lexer": "ipython3",
   "version": "3.7.6"
  }
 },
 "nbformat": 4,
 "nbformat_minor": 2
}
