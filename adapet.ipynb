{
 "cells": [
  {
   "cell_type": "markdown",
   "metadata": {
    "colab": {
     "base_uri": "https://localhost:8080/"
    },
    "id": "jfTBZn0p_VVw",
    "outputId": "6fb5f87d-32ce-4cea-aaa6-ae46bd3440db"
   },
   "source": [
    "## SETUP"
   ]
  },
  {
   "cell_type": "code",
   "execution_count": null,
   "metadata": {},
   "outputs": [],
   "source": [
    "#Must be in the \"ADAPET\" Directory\n",
    "%cd ADAPET"
   ]
  },
  {
   "cell_type": "code",
   "execution_count": 18,
   "metadata": {
    "id": "eKnCGWhNAfLY",
    "scrolled": true
   },
   "outputs": [
    {
     "name": "stdout",
     "output_type": "stream",
     "text": [
      "Requirement already satisfied: crcmod in /Users/david/opt/anaconda3/lib/python3.7/site-packages (from -r requirements.txt (line 1)) (1.7)\n",
      "Requirement already satisfied: wandb in /Users/david/opt/anaconda3/lib/python3.7/site-packages (from -r requirements.txt (line 2)) (0.12.1)\n",
      "Requirement already satisfied: numpy==1.19 in /Users/david/opt/anaconda3/lib/python3.7/site-packages (from -r requirements.txt (line 3)) (1.19.0)\n",
      "Requirement already satisfied: jsonpickle==1.1 in /Users/david/opt/anaconda3/lib/python3.7/site-packages (from -r requirements.txt (line 4)) (1.1)\n",
      "Requirement already satisfied: scikit-learn==0.23.1 in /Users/david/opt/anaconda3/lib/python3.7/site-packages (from -r requirements.txt (line 5)) (0.23.1)\n",
      "Requirement already satisfied: torch===1.5.0 in /Users/david/opt/anaconda3/lib/python3.7/site-packages (from -r requirements.txt (line 6)) (1.5.0)\n",
      "Requirement already satisfied: torchvision==0.6.0 in /Users/david/opt/anaconda3/lib/python3.7/site-packages (from -r requirements.txt (line 7)) (0.6.0)\n",
      "Requirement already satisfied: transformers==4.0.0 in /Users/david/opt/anaconda3/lib/python3.7/site-packages (from -r requirements.txt (line 8)) (4.0.0)\n",
      "Requirement already satisfied: tqdm==4.48.1 in /Users/david/opt/anaconda3/lib/python3.7/site-packages (from -r requirements.txt (line 9)) (4.48.1)\n",
      "Requirement already satisfied: threadpoolctl>=2.0.0 in /Users/david/opt/anaconda3/lib/python3.7/site-packages (from scikit-learn==0.23.1->-r requirements.txt (line 5)) (2.1.0)\n",
      "Requirement already satisfied: joblib>=0.11 in /Users/david/opt/anaconda3/lib/python3.7/site-packages (from scikit-learn==0.23.1->-r requirements.txt (line 5)) (0.14.1)\n",
      "Requirement already satisfied: scipy>=0.19.1 in /Users/david/opt/anaconda3/lib/python3.7/site-packages (from scikit-learn==0.23.1->-r requirements.txt (line 5)) (1.4.1)\n",
      "Requirement already satisfied: future in /Users/david/opt/anaconda3/lib/python3.7/site-packages (from torch===1.5.0->-r requirements.txt (line 6)) (0.18.2)\n",
      "Requirement already satisfied: pillow>=4.1.1 in /Users/david/opt/anaconda3/lib/python3.7/site-packages (from torchvision==0.6.0->-r requirements.txt (line 7)) (7.0.0)\n",
      "Requirement already satisfied: sacremoses in /Users/david/opt/anaconda3/lib/python3.7/site-packages (from transformers==4.0.0->-r requirements.txt (line 8)) (0.0.45)\n",
      "Requirement already satisfied: regex!=2019.12.17 in /Users/david/opt/anaconda3/lib/python3.7/site-packages (from transformers==4.0.0->-r requirements.txt (line 8)) (2021.7.6)\n",
      "Requirement already satisfied: filelock in /Users/david/opt/anaconda3/lib/python3.7/site-packages (from transformers==4.0.0->-r requirements.txt (line 8)) (3.0.12)\n",
      "Requirement already satisfied: requests in /Users/david/opt/anaconda3/lib/python3.7/site-packages (from transformers==4.0.0->-r requirements.txt (line 8)) (2.25.1)\n",
      "Requirement already satisfied: packaging in /Users/david/opt/anaconda3/lib/python3.7/site-packages (from transformers==4.0.0->-r requirements.txt (line 8)) (21.0)\n",
      "Requirement already satisfied: tokenizers==0.9.4 in /Users/david/opt/anaconda3/lib/python3.7/site-packages (from transformers==4.0.0->-r requirements.txt (line 8)) (0.9.4)\n",
      "Requirement already satisfied: python-dateutil>=2.6.1 in /Users/david/opt/anaconda3/lib/python3.7/site-packages (from wandb->-r requirements.txt (line 2)) (2.8.1)\n",
      "Requirement already satisfied: psutil>=5.0.0 in /Users/david/opt/anaconda3/lib/python3.7/site-packages (from wandb->-r requirements.txt (line 2)) (5.6.7)\n",
      "Requirement already satisfied: protobuf>=3.12.0 in /Users/david/opt/anaconda3/lib/python3.7/site-packages (from wandb->-r requirements.txt (line 2)) (3.12.2)\n",
      "Requirement already satisfied: Click!=8.0.0,>=7.0 in /Users/david/opt/anaconda3/lib/python3.7/site-packages (from wandb->-r requirements.txt (line 2)) (7.1.2)\n",
      "Requirement already satisfied: subprocess32>=3.5.3 in /Users/david/opt/anaconda3/lib/python3.7/site-packages (from wandb->-r requirements.txt (line 2)) (3.5.4)\n",
      "Requirement already satisfied: configparser>=3.8.1 in /Users/david/opt/anaconda3/lib/python3.7/site-packages (from wandb->-r requirements.txt (line 2)) (5.0.2)\n",
      "Requirement already satisfied: pathtools in /Users/david/opt/anaconda3/lib/python3.7/site-packages (from wandb->-r requirements.txt (line 2)) (0.1.2)\n",
      "Requirement already satisfied: GitPython>=1.0.0 in /Users/david/opt/anaconda3/lib/python3.7/site-packages (from wandb->-r requirements.txt (line 2)) (3.1.18)\n",
      "Requirement already satisfied: promise<3,>=2.0 in /Users/david/opt/anaconda3/lib/python3.7/site-packages (from wandb->-r requirements.txt (line 2)) (2.3)\n",
      "Requirement already satisfied: six>=1.13.0 in /Users/david/opt/anaconda3/lib/python3.7/site-packages (from wandb->-r requirements.txt (line 2)) (1.14.0)\n",
      "Requirement already satisfied: PyYAML in /Users/david/opt/anaconda3/lib/python3.7/site-packages (from wandb->-r requirements.txt (line 2)) (5.3)\n",
      "Requirement already satisfied: docker-pycreds>=0.4.0 in /Users/david/opt/anaconda3/lib/python3.7/site-packages (from wandb->-r requirements.txt (line 2)) (0.4.0)\n",
      "Requirement already satisfied: shortuuid>=0.5.0 in /Users/david/opt/anaconda3/lib/python3.7/site-packages (from wandb->-r requirements.txt (line 2)) (1.0.1)\n",
      "Requirement already satisfied: sentry-sdk>=1.0.0 in /Users/david/opt/anaconda3/lib/python3.7/site-packages (from wandb->-r requirements.txt (line 2)) (1.3.1)\n",
      "Requirement already satisfied: typing-extensions>=3.7.4.0 in /Users/david/opt/anaconda3/lib/python3.7/site-packages (from GitPython>=1.0.0->wandb->-r requirements.txt (line 2)) (4.3.0)\n",
      "Requirement already satisfied: gitdb<5,>=4.0.1 in /Users/david/opt/anaconda3/lib/python3.7/site-packages (from GitPython>=1.0.0->wandb->-r requirements.txt (line 2)) (4.0.7)\n",
      "Requirement already satisfied: setuptools in /Users/david/opt/anaconda3/lib/python3.7/site-packages (from protobuf>=3.12.0->wandb->-r requirements.txt (line 2)) (59.5.0)\n",
      "Requirement already satisfied: idna<3,>=2.5 in /Users/david/opt/anaconda3/lib/python3.7/site-packages (from requests->transformers==4.0.0->-r requirements.txt (line 8)) (2.8)\n",
      "Requirement already satisfied: chardet<5,>=3.0.2 in /Users/david/opt/anaconda3/lib/python3.7/site-packages (from requests->transformers==4.0.0->-r requirements.txt (line 8)) (3.0.4)\n",
      "Requirement already satisfied: certifi>=2017.4.17 in /Users/david/opt/anaconda3/lib/python3.7/site-packages (from requests->transformers==4.0.0->-r requirements.txt (line 8)) (2019.11.28)\n",
      "Requirement already satisfied: urllib3<1.27,>=1.21.1 in /Users/david/opt/anaconda3/lib/python3.7/site-packages (from requests->transformers==4.0.0->-r requirements.txt (line 8)) (1.26.8)\n",
      "Requirement already satisfied: pyparsing>=2.0.2 in /Users/david/opt/anaconda3/lib/python3.7/site-packages (from packaging->transformers==4.0.0->-r requirements.txt (line 8)) (2.4.6)\n",
      "Requirement already satisfied: smmap<5,>=3.0.1 in /Users/david/opt/anaconda3/lib/python3.7/site-packages (from gitdb<5,>=4.0.1->GitPython>=1.0.0->wandb->-r requirements.txt (line 2)) (4.0.0)\n"
     ]
    }
   ],
   "source": [
    "#Installing required libraries\n",
    "!pip install -r requirements.txt"
   ]
  },
  {
   "cell_type": "markdown",
   "metadata": {},
   "source": []
  },
  {
   "cell_type": "code",
   "execution_count": 5,
   "metadata": {
    "colab": {
     "base_uri": "https://localhost:8080/"
    },
    "id": "2YVsFolCBUd6",
    "outputId": "6231c532-9785-49bd-c612-460487875aec"
   },
   "outputs": [
    {
     "name": "stdout",
     "output_type": "stream",
     "text": [
      "env: ADAPET_ROOT=/content/drive/MyDrive/ADAPET\n",
      "env: PYTHONPATH=$ADAPET_ROOT:$PYTHONPATH\n",
      "env: PYTHON_EXEC=python\n"
     ]
    }
   ],
   "source": [
    "## Setting up environment variables\n",
    "%env ADAPET_ROOT= /content/drive/MyDrive/ADAPET\n",
    "%env PYTHONPATH=$ADAPET_ROOT:$PYTHONPATH\n",
    "%env PYTHON_EXEC=python"
   ]
  },
  {
   "cell_type": "code",
   "execution_count": 19,
   "metadata": {
    "id": "BBIUeIL59kJM"
   },
   "outputs": [],
   "source": [
    "## Delete previous experiment outputs\n",
    "# !rm -r exp_out"
   ]
  },
  {
   "cell_type": "code",
   "execution_count": null,
   "metadata": {
    "id": "gcnXQwqUKxZC"
   },
   "outputs": [],
   "source": [
    "import pandas as pd\n",
    "from sklearn.model_selection import train_test_split, StratifiedKFold\n",
    "from sklearn.metrics import classification_report"
   ]
  },
  {
   "cell_type": "markdown",
   "metadata": {},
   "source": [
    "## DATASET"
   ]
  },
  {
   "cell_type": "code",
   "execution_count": 23,
   "metadata": {
    "id": "DOl1yHEoOg4g"
   },
   "outputs": [],
   "source": [
    "## Data file placed in the parent directory of \"ADAPET\"\n",
    "df = pd.read_excel(\"../PE_combined.xlsx\")\n",
    "\n",
    "## Data proccessing\n",
    "df.drop(columns=['Unnamed: 0','Accession Number'],inplace=True)\n",
    "df['doc'] = df['doc'].replace(r'\\s+|\\\\n', ' ', regex=True) \n",
    "df['target'] = df['target'].replace({'Definitive PE NEG':'0'})\n",
    "df['target'] = df['target'].replace({'Definitive PE POS':'2'})\n",
    "df['target'] = df['target'].replace({'Probable PE NEG':'1'})\n",
    "df['target'] = df['target'].replace({'Probable PE POS':'1'})\n",
    "df['target'] = df['target'].replace({'Indeterminate':'inconclusive'})\n",
    "df['target'] = df['target'].replace({'Non-diagnostic':'inconclusive'})\n",
    "df = df[df['target'] != 'inconclusive']"
   ]
  },
  {
   "cell_type": "code",
   "execution_count": 26,
   "metadata": {
    "id": "R23JyDO9qHi1"
   },
   "outputs": [],
   "source": [
    "## random_state must be same with other models.\n",
    "train_df,test_df = train_test_split(df, test_size=0.2,stratify=df['target'],random_state=15)"
   ]
  },
  {
   "cell_type": "code",
   "execution_count": 11,
   "metadata": {
    "id": "qoDCayJ1Ohau"
   },
   "outputs": [],
   "source": [
    "pd.options.mode.chained_assignment = None  # default='warn'\n",
    "\n",
    "train_df.rename(columns={'target':'LBL','doc':'TEXT1'},inplace=True)\n",
    "train_df['LBL'].replace({'0':'negative'},inplace=True)\n",
    "train_df['LBL'].replace({'1':'probable'},inplace=True)\n",
    "train_df['LBL'].replace({'2':'positive'},inplace=True)\n",
    "\n",
    "test_df.rename(columns={'target':'LBL','doc':'TEXT1'},inplace=True)\n",
    "test_df['LBL'].replace({'0':'negative'},inplace=True)\n",
    "test_df['LBL'].replace({'1':'probable'},inplace=True)\n",
    "test_df['LBL'].replace({'2':'positive'},inplace=True)\n"
   ]
  },
  {
   "cell_type": "code",
   "execution_count": 12,
   "metadata": {
    "colab": {
     "base_uri": "https://localhost:8080/",
     "height": 424
    },
    "id": "JlgpBxxysCCi",
    "outputId": "bf57036c-540d-4926-d83f-6a83e060fd9f"
   },
   "outputs": [
    {
     "data": {
      "text/html": [
       "<div>\n",
       "<style scoped>\n",
       "    .dataframe tbody tr th:only-of-type {\n",
       "        vertical-align: middle;\n",
       "    }\n",
       "\n",
       "    .dataframe tbody tr th {\n",
       "        vertical-align: top;\n",
       "    }\n",
       "\n",
       "    .dataframe thead th {\n",
       "        text-align: right;\n",
       "    }\n",
       "</style>\n",
       "<table border=\"1\" class=\"dataframe\">\n",
       "  <thead>\n",
       "    <tr style=\"text-align: right;\">\n",
       "      <th></th>\n",
       "      <th>TEXT1</th>\n",
       "      <th>LBL</th>\n",
       "    </tr>\n",
       "  </thead>\n",
       "  <tbody>\n",
       "    <tr>\n",
       "      <th>55</th>\n",
       "      <td>1. No evidence of pulmonary embolism. 2. Multi...</td>\n",
       "      <td>negative</td>\n",
       "    </tr>\n",
       "    <tr>\n",
       "      <th>70</th>\n",
       "      <td>1. No pulmonary embolism. Enlargement of the c...</td>\n",
       "      <td>negative</td>\n",
       "    </tr>\n",
       "    <tr>\n",
       "      <th>106</th>\n",
       "      <td>1.No definite evidence of pulmonary embolism. ...</td>\n",
       "      <td>probable</td>\n",
       "    </tr>\n",
       "    <tr>\n",
       "      <th>74</th>\n",
       "      <td>1. No evidence of pulmonary embolism. 2. No fo...</td>\n",
       "      <td>negative</td>\n",
       "    </tr>\n",
       "    <tr>\n",
       "      <th>150</th>\n",
       "      <td>Suboptimal bolus timing for evaluation of the ...</td>\n",
       "      <td>probable</td>\n",
       "    </tr>\n",
       "    <tr>\n",
       "      <th>...</th>\n",
       "      <td>...</td>\n",
       "      <td>...</td>\n",
       "    </tr>\n",
       "    <tr>\n",
       "      <th>33</th>\n",
       "      <td>1. No pulmonary embolism. 2. Findings of CHF i...</td>\n",
       "      <td>negative</td>\n",
       "    </tr>\n",
       "    <tr>\n",
       "      <th>24</th>\n",
       "      <td>1. No pulmonary embolism. Enlargement of the c...</td>\n",
       "      <td>negative</td>\n",
       "    </tr>\n",
       "    <tr>\n",
       "      <th>110</th>\n",
       "      <td>1. No pulmonary embolism. 2. Mildly enlarged m...</td>\n",
       "      <td>negative</td>\n",
       "    </tr>\n",
       "    <tr>\n",
       "      <th>65</th>\n",
       "      <td>No evidence of central pulmonary embolism. The...</td>\n",
       "      <td>probable</td>\n",
       "    </tr>\n",
       "    <tr>\n",
       "      <th>143</th>\n",
       "      <td>There is a pulmonary embolus present in a left...</td>\n",
       "      <td>positive</td>\n",
       "    </tr>\n",
       "  </tbody>\n",
       "</table>\n",
       "<p>121 rows × 2 columns</p>\n",
       "</div>"
      ],
      "text/plain": [
       "                                                 TEXT1       LBL\n",
       "55   1. No evidence of pulmonary embolism. 2. Multi...  negative\n",
       "70   1. No pulmonary embolism. Enlargement of the c...  negative\n",
       "106  1.No definite evidence of pulmonary embolism. ...  probable\n",
       "74   1. No evidence of pulmonary embolism. 2. No fo...  negative\n",
       "150  Suboptimal bolus timing for evaluation of the ...  probable\n",
       "..                                                 ...       ...\n",
       "33   1. No pulmonary embolism. 2. Findings of CHF i...  negative\n",
       "24   1. No pulmonary embolism. Enlargement of the c...  negative\n",
       "110  1. No pulmonary embolism. 2. Mildly enlarged m...  negative\n",
       "65   No evidence of central pulmonary embolism. The...  probable\n",
       "143  There is a pulmonary embolus present in a left...  positive\n",
       "\n",
       "[121 rows x 2 columns]"
      ]
     },
     "execution_count": 12,
     "metadata": {},
     "output_type": "execute_result"
    }
   ],
   "source": [
    "train_df"
   ]
  },
  {
   "cell_type": "code",
   "execution_count": null,
   "metadata": {
    "colab": {
     "base_uri": "https://localhost:8080/"
    },
    "id": "9MKd7FUzY_zp",
    "outputId": "d921251c-fd3d-4f1c-857e-50083eb9b35d"
   },
   "outputs": [
    {
     "name": "stdout",
     "output_type": "stream",
     "text": [
      "GPU 0: Tesla T4 (UUID: GPU-c2e6525e-6404-4205-c5c2-2499a82d5f9b)\n"
     ]
    }
   ],
   "source": [
    "## You will need GPU to train ADAPET model.  \n",
    "!nvidia-smi -L"
   ]
  },
  {
   "cell_type": "markdown",
   "metadata": {
    "id": "SlcPNvQVkCBL"
   },
   "source": [
    "## PROMPT SEARCH\n",
    "We tested four different prompts: [\"The diagnosis is\", \"Pulmonary embolism is\", \"Existence of pulmonary embolism is\", \"PE diagnosis is\"]\n",
    "\n",
    "i.e. We train the model on '[TEXT1]  [PROMPT]  [LBL]' where [TEXT1] is the input, [PROMPT] is the selected prompt, and [LBL] is the correct label. \n",
    "\n",
    "For each prompt, we perform 5-fold cross validation on the train set. We choose the prompt that resulted in the best macro average score. \n",
    "\n",
    "Note that Since the ADAPET codebase uses scripts, the prompt search in this notebook requires a lot of manual lines. We've only included code for testing \"The diagnosis is\". \n",
    "\n",
    "You can change the parameters \"pattern\" and \"dir_names\" (where the trained model is saved).\n"
   ]
  },
  {
   "cell_type": "code",
   "execution_count": null,
   "metadata": {
    "id": "DnEdBMKpZGTs"
   },
   "outputs": [],
   "source": [
    "skf = StratifiedKFold(n_splits=5)"
   ]
  },
  {
   "cell_type": "code",
   "execution_count": null,
   "metadata": {
    "colab": {
     "base_uri": "https://localhost:8080/"
    },
    "id": "dIG0GUAtY_3n",
    "outputId": "b6063f34-caaf-4a32-c18e-367a04fd340e"
   },
   "outputs": [
    {
     "name": "stdout",
     "output_type": "stream",
     "text": [
      "RuntimeError: module compiled against API version 0xe but this version of numpy is 0xd\n",
      "Downloading: 100% 710/710 [00:00<00:00, 628kB/s]\n",
      "Downloading: 100% 760k/760k [00:00<00:00, 2.20MB/s]\n",
      "Downloading: 100% 1.31M/1.31M [00:00<00:00, 2.55MB/s]\n",
      "Downloading: 100% 893M/893M [00:08<00:00, 103MB/s]\n",
      "RuntimeError: module compiled against API version 0xe but this version of numpy is 0xd\n",
      "RuntimeError: module compiled against API version 0xe but this version of numpy is 0xd\n",
      "RuntimeError: module compiled against API version 0xe but this version of numpy is 0xd\n",
      "RuntimeError: module compiled against API version 0xe but this version of numpy is 0xd\n"
     ]
    }
   ],
   "source": [
    "i = 0\n",
    "for train_index, eval_index in skf.split(train_df['TEXT1'], train_df['LBL']):\n",
    "    t = train_df.iloc[train_index]\n",
    "    e = train_df.iloc[eval_index]\n",
    "    t.to_json('data/my_task/train.jsonl',lines=True,orient='records')\n",
    "    \n",
    "    e.to_json('data/my_task/test.jsonl',lines=True,orient='records')\n",
    "    if i == 0:\n",
    "        !python cli.py --data_dir data/my_task --pattern '[TEXT1] The diagnosis is [LBL]'  --dict_verbalizer '{\"negative\": \"negative\", \"probable\": \"probable\",\"positive\":\"positive\"}' --num_batches 50  --dir_names 'v1f1'\n",
    "    elif i == 1:\n",
    "        !python cli.py --data_dir data/my_task --pattern '[TEXT1] The diagnosis is [LBL]'  --dict_verbalizer '{\"negative\": \"negative\", \"probable\": \"probable\",\"positive\":\"positive\"}' --num_batches 50 --dir_names 'v1f2'\n",
    "    elif i == 2:\n",
    "        !python cli.py --data_dir data/my_task --pattern '[TEXT1] The diagnosis is [LBL]'  --dict_verbalizer '{\"negative\": \"negative\", \"probable\": \"probable\",\"positive\":\"positive\"}' --num_batches 50 --dir_names 'v1f3'\n",
    "    elif i == 3:\n",
    "        !python cli.py --data_dir data/my_task --pattern '[TEXT1] The diagnosis is [LBL]'  --dict_verbalizer '{\"negative\": \"negative\", \"probable\": \"probable\",\"positive\":\"positive\"}' --num_batches 50 --dir_names 'v1f4'\n",
    "    elif i == 4:\n",
    "        !python cli.py --data_dir data/my_task --pattern '[TEXT1] The diagnosis is [LBL]'  --dict_verbalizer '{\"negative\": \"negative\", \"probable\": \"probable\",\"positive\":\"positive\"}' --num_batches 50  --dir_names 'v1f5'\n",
    "    i+= 1\n"
   ]
  },
  {
   "cell_type": "code",
   "execution_count": null,
   "metadata": {
    "id": "LvqsB4wQWul6"
   },
   "outputs": [],
   "source": [
    "!sh bin/test.sh exp_out/generic/albert-xxlarge-v2/v1f1/\n",
    "!sh bin/test.sh exp_out/generic/albert-xxlarge-v2/v1f2/\n",
    "!sh bin/test.sh exp_out/generic/albert-xxlarge-v2/v1f3/\n",
    "!sh bin/test.sh exp_out/generic/albert-xxlarge-v2/v1f4/\n",
    "!sh bin/test.sh exp_out/generic/albert-xxlarge-v2/v1f5/\n",
    "saves = ['v1f1','v1f2','v1f3','v1f4','v1f5',]\n",
    "import pandas as pd\n",
    "from sklearn.metrics import classification_report\n",
    "for save in saves:\n",
    "    predictions = pd.read_json(f\"exp_out/generic/albert-xxlarge-v2/{save}/test.json\",lines=True)\n",
    "    truth = pd.read_json(\"data/my_task/test.jsonl\",lines=True)\n",
    "    print(classification_report(list(truth['LBL']),list(predictions['label'])))"
   ]
  },
  {
   "cell_type": "markdown",
   "metadata": {
    "id": "iQ2FUdnqk73u"
   },
   "source": [
    "## TEST"
   ]
  },
  {
   "cell_type": "markdown",
   "metadata": {},
   "source": [
    "We found \"Pulmonary embolism is\" to be the best prompt.\n",
    "\n",
    "Note that because we did cv with train set and found the best prompt, we do not have evaluation set. ADAPET codebase by default requires an eval dataset. To work around this, we set the value for eval_every in the config file to be the same as the num_batches hyperparameter (50)"
   ]
  },
  {
   "cell_type": "code",
   "execution_count": 27,
   "metadata": {
    "colab": {
     "base_uri": "https://localhost:8080/"
    },
    "id": "n3WZCu04ZbRr",
    "outputId": "59f0ecd1-8297-41fd-caeb-a713b5b87606",
    "scrolled": true
   },
   "outputs": [],
   "source": [
    "train_df.to_json('data/my_task/train.jsonl',lines=True,orient='records')\n",
    "test_df.to_json('data/my_task/test.jsonl',lines=True,orient='records')\n",
    "!python cli.py --data_dir data/my_task --pattern '[TEXT1] Pulmonary embolism is [LBL]'  --dict_verbalizer '{\"negative\": \"negative\", \"probable\": \"probable\",\"positive\":\"positive\"}' --num_batches 50  --dir_names 't1'"
   ]
  },
  {
   "cell_type": "code",
   "execution_count": null,
   "metadata": {
    "colab": {
     "base_uri": "https://localhost:8080/"
    },
    "id": "rxsiC1FkgwzO",
    "outputId": "d19c1376-0fea-4823-c147-fbd132b7bbaa"
   },
   "outputs": [
    {
     "name": "stdout",
     "output_type": "stream",
     "text": [
      "+ exp_dir=exp_out/generic/albert-xxlarge-v2/t1/\n",
      "+ python -m src.test -e exp_out/generic/albert-xxlarge-v2/t1/\n",
      "RuntimeError: module compiled against API version 0xe but this version of numpy is 0xd\n",
      "              precision    recall  f1-score   support\n",
      "\n",
      "    negative       1.00      0.95      0.97        20\n",
      "    positive       0.67      0.80      0.73         5\n",
      "    probable       0.83      0.83      0.83         6\n",
      "\n",
      "    accuracy                           0.90        31\n",
      "   macro avg       0.83      0.86      0.84        31\n",
      "weighted avg       0.91      0.90      0.91        31\n",
      "\n"
     ]
    }
   ],
   "source": [
    "!sh bin/test.sh exp_out/generic/albert-xxlarge-v2/t1/\n",
    "predictions = pd.read_json(f\"exp_out/generic/albert-xxlarge-v2/t1/test.json\",lines=True)\n",
    "truth = pd.read_json(\"data/my_task/test.jsonl\",lines=True)\n",
    "print(classification_report(list(truth['LBL']),list(predictions['label'])))"
   ]
  },
  {
   "cell_type": "code",
   "execution_count": null,
   "metadata": {
    "id": "AJGnzX4i0Tuo"
   },
   "outputs": [],
   "source": []
  }
 ],
 "metadata": {
  "accelerator": "GPU",
  "colab": {
   "machine_shape": "hm",
   "provenance": []
  },
  "gpuClass": "standard",
  "kernelspec": {
   "display_name": "Python 3",
   "language": "python",
   "name": "python3"
  },
  "language_info": {
   "codemirror_mode": {
    "name": "ipython",
    "version": 3
   },
   "file_extension": ".py",
   "mimetype": "text/x-python",
   "name": "python",
   "nbconvert_exporter": "python",
   "pygments_lexer": "ipython3",
   "version": "3.7.6"
  }
 },
 "nbformat": 4,
 "nbformat_minor": 1
}
