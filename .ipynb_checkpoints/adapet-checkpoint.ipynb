{
 "cells": [
  {
   "cell_type": "code",
   "execution_count": 2,
   "metadata": {
    "colab": {
     "base_uri": "https://localhost:8080/"
    },
    "id": "jfTBZn0p_VVw",
    "outputId": "6fb5f87d-32ce-4cea-aaa6-ae46bd3440db"
   },
   "outputs": [
    {
     "name": "stdout",
     "output_type": "stream",
     "text": [
      "/Users/david/Desktop/CTPA/ADAPET\n"
     ]
    }
   ],
   "source": [
    "%cd ADAPET"
   ]
  },
  {
   "cell_type": "code",
   "execution_count": 3,
   "metadata": {
    "id": "eKnCGWhNAfLY"
   },
   "outputs": [
    {
     "name": "stdout",
     "output_type": "stream",
     "text": [
      "Requirement already satisfied: crcmod in /Users/david/opt/anaconda3/lib/python3.7/site-packages (from -r requirements.txt (line 1)) (1.7)\n",
      "Requirement already satisfied: wandb in /Users/david/opt/anaconda3/lib/python3.7/site-packages (from -r requirements.txt (line 2)) (0.12.1)\n",
      "Requirement already satisfied: numpy==1.19 in /Users/david/opt/anaconda3/lib/python3.7/site-packages (from -r requirements.txt (line 3)) (1.19.0)\n",
      "Requirement already satisfied: jsonpickle==1.1 in /Users/david/opt/anaconda3/lib/python3.7/site-packages (from -r requirements.txt (line 4)) (1.1)\n",
      "Requirement already satisfied: scikit-learn==0.23.1 in /Users/david/opt/anaconda3/lib/python3.7/site-packages (from -r requirements.txt (line 5)) (0.23.1)\n",
      "Requirement already satisfied: torch===1.5.0 in /Users/david/opt/anaconda3/lib/python3.7/site-packages (from -r requirements.txt (line 6)) (1.5.0)\n",
      "Requirement already satisfied: torchvision==0.6.0 in /Users/david/opt/anaconda3/lib/python3.7/site-packages (from -r requirements.txt (line 7)) (0.6.0)\n",
      "Collecting transformers==4.0.0\n",
      "  Using cached transformers-4.0.0-py3-none-any.whl (1.4 MB)\n",
      "Collecting tqdm==4.48.1\n",
      "  Using cached tqdm-4.48.1-py2.py3-none-any.whl (68 kB)\n",
      "Requirement already satisfied: threadpoolctl>=2.0.0 in /Users/david/opt/anaconda3/lib/python3.7/site-packages (from scikit-learn==0.23.1->-r requirements.txt (line 5)) (2.1.0)\n",
      "Requirement already satisfied: joblib>=0.11 in /Users/david/opt/anaconda3/lib/python3.7/site-packages (from scikit-learn==0.23.1->-r requirements.txt (line 5)) (0.14.1)\n",
      "Requirement already satisfied: scipy>=0.19.1 in /Users/david/opt/anaconda3/lib/python3.7/site-packages (from scikit-learn==0.23.1->-r requirements.txt (line 5)) (1.4.1)\n",
      "Requirement already satisfied: future in /Users/david/opt/anaconda3/lib/python3.7/site-packages (from torch===1.5.0->-r requirements.txt (line 6)) (0.18.2)\n",
      "Requirement already satisfied: pillow>=4.1.1 in /Users/david/opt/anaconda3/lib/python3.7/site-packages (from torchvision==0.6.0->-r requirements.txt (line 7)) (7.0.0)\n",
      "Requirement already satisfied: packaging in /Users/david/opt/anaconda3/lib/python3.7/site-packages (from transformers==4.0.0->-r requirements.txt (line 8)) (21.0)\n",
      "Collecting tokenizers==0.9.4\n",
      "  Using cached tokenizers-0.9.4-cp37-cp37m-macosx_10_11_x86_64.whl (2.0 MB)\n",
      "Requirement already satisfied: requests in /Users/david/opt/anaconda3/lib/python3.7/site-packages (from transformers==4.0.0->-r requirements.txt (line 8)) (2.25.1)\n",
      "Requirement already satisfied: regex!=2019.12.17 in /Users/david/opt/anaconda3/lib/python3.7/site-packages (from transformers==4.0.0->-r requirements.txt (line 8)) (2021.7.6)\n",
      "Requirement already satisfied: sacremoses in /Users/david/opt/anaconda3/lib/python3.7/site-packages (from transformers==4.0.0->-r requirements.txt (line 8)) (0.0.45)\n",
      "Requirement already satisfied: filelock in /Users/david/opt/anaconda3/lib/python3.7/site-packages (from transformers==4.0.0->-r requirements.txt (line 8)) (3.0.12)\n",
      "Requirement already satisfied: PyYAML in /Users/david/opt/anaconda3/lib/python3.7/site-packages (from wandb->-r requirements.txt (line 2)) (5.3)\n",
      "Requirement already satisfied: subprocess32>=3.5.3 in /Users/david/opt/anaconda3/lib/python3.7/site-packages (from wandb->-r requirements.txt (line 2)) (3.5.4)\n",
      "Requirement already satisfied: python-dateutil>=2.6.1 in /Users/david/opt/anaconda3/lib/python3.7/site-packages (from wandb->-r requirements.txt (line 2)) (2.8.1)\n",
      "Requirement already satisfied: Click!=8.0.0,>=7.0 in /Users/david/opt/anaconda3/lib/python3.7/site-packages (from wandb->-r requirements.txt (line 2)) (7.1.2)\n",
      "Requirement already satisfied: shortuuid>=0.5.0 in /Users/david/opt/anaconda3/lib/python3.7/site-packages (from wandb->-r requirements.txt (line 2)) (1.0.1)\n",
      "Requirement already satisfied: psutil>=5.0.0 in /Users/david/opt/anaconda3/lib/python3.7/site-packages (from wandb->-r requirements.txt (line 2)) (5.6.7)\n",
      "Requirement already satisfied: GitPython>=1.0.0 in /Users/david/opt/anaconda3/lib/python3.7/site-packages (from wandb->-r requirements.txt (line 2)) (3.1.18)\n",
      "Requirement already satisfied: docker-pycreds>=0.4.0 in /Users/david/opt/anaconda3/lib/python3.7/site-packages (from wandb->-r requirements.txt (line 2)) (0.4.0)\n",
      "Requirement already satisfied: pathtools in /Users/david/opt/anaconda3/lib/python3.7/site-packages (from wandb->-r requirements.txt (line 2)) (0.1.2)\n",
      "Requirement already satisfied: protobuf>=3.12.0 in /Users/david/opt/anaconda3/lib/python3.7/site-packages (from wandb->-r requirements.txt (line 2)) (3.12.2)\n",
      "Requirement already satisfied: six>=1.13.0 in /Users/david/opt/anaconda3/lib/python3.7/site-packages (from wandb->-r requirements.txt (line 2)) (1.14.0)\n",
      "Requirement already satisfied: configparser>=3.8.1 in /Users/david/opt/anaconda3/lib/python3.7/site-packages (from wandb->-r requirements.txt (line 2)) (5.0.2)\n",
      "Requirement already satisfied: promise<3,>=2.0 in /Users/david/opt/anaconda3/lib/python3.7/site-packages (from wandb->-r requirements.txt (line 2)) (2.3)\n",
      "Requirement already satisfied: sentry-sdk>=1.0.0 in /Users/david/opt/anaconda3/lib/python3.7/site-packages (from wandb->-r requirements.txt (line 2)) (1.3.1)\n",
      "Requirement already satisfied: typing-extensions>=3.7.4.0 in /Users/david/opt/anaconda3/lib/python3.7/site-packages (from GitPython>=1.0.0->wandb->-r requirements.txt (line 2)) (4.3.0)\n",
      "Requirement already satisfied: gitdb<5,>=4.0.1 in /Users/david/opt/anaconda3/lib/python3.7/site-packages (from GitPython>=1.0.0->wandb->-r requirements.txt (line 2)) (4.0.7)\n",
      "Requirement already satisfied: setuptools in /Users/david/opt/anaconda3/lib/python3.7/site-packages (from protobuf>=3.12.0->wandb->-r requirements.txt (line 2)) (59.5.0)\n",
      "Requirement already satisfied: urllib3<1.27,>=1.21.1 in /Users/david/opt/anaconda3/lib/python3.7/site-packages (from requests->transformers==4.0.0->-r requirements.txt (line 8)) (1.26.8)\n",
      "Requirement already satisfied: chardet<5,>=3.0.2 in /Users/david/opt/anaconda3/lib/python3.7/site-packages (from requests->transformers==4.0.0->-r requirements.txt (line 8)) (3.0.4)\n",
      "Requirement already satisfied: certifi>=2017.4.17 in /Users/david/opt/anaconda3/lib/python3.7/site-packages (from requests->transformers==4.0.0->-r requirements.txt (line 8)) (2019.11.28)\n",
      "Requirement already satisfied: idna<3,>=2.5 in /Users/david/opt/anaconda3/lib/python3.7/site-packages (from requests->transformers==4.0.0->-r requirements.txt (line 8)) (2.8)\n",
      "Requirement already satisfied: pyparsing>=2.0.2 in /Users/david/opt/anaconda3/lib/python3.7/site-packages (from packaging->transformers==4.0.0->-r requirements.txt (line 8)) (2.4.6)\n",
      "Requirement already satisfied: smmap<5,>=3.0.1 in /Users/david/opt/anaconda3/lib/python3.7/site-packages (from gitdb<5,>=4.0.1->GitPython>=1.0.0->wandb->-r requirements.txt (line 2)) (4.0.0)\n",
      "Installing collected packages: tokenizers, tqdm, transformers\n",
      "  Attempting uninstall: tokenizers\n",
      "    Found existing installation: tokenizers 0.10.3\n",
      "    Uninstalling tokenizers-0.10.3:\n",
      "      Successfully uninstalled tokenizers-0.10.3\n",
      "  Attempting uninstall: tqdm\n",
      "    Found existing installation: tqdm 4.64.1\n",
      "    Uninstalling tqdm-4.64.1:\n",
      "      Successfully uninstalled tqdm-4.64.1\n",
      "  Attempting uninstall: transformers\n",
      "    Found existing installation: transformers 4.10.2\n",
      "    Uninstalling transformers-4.10.2:\n",
      "      Successfully uninstalled transformers-4.10.2\n",
      "\u001b[31mERROR: pip's dependency resolver does not currently take into account all the packages that are installed. This behaviour is the source of the following dependency conflicts.\n",
      "spacy 3.1.2 requires typing-extensions<4.0.0.0,>=3.7.4; python_version < \"3.8\", but you have typing-extensions 4.3.0 which is incompatible.\n",
      "simpletransformers 0.63.7 requires transformers>=4.6.0, but you have transformers 4.0.0 which is incompatible.\n",
      "responsibly 0.1.3 requires gensim<3.8,>=3.7, but you have gensim 3.8.3 which is incompatible.\n",
      "responsibly 0.1.3 requires matplotlib<3,>=2.2, but you have matplotlib 3.4.3 which is incompatible.\n",
      "pytorch-lightning 1.5.10 requires tensorboard>=2.2.0, but you have tensorboard 1.15.0 which is incompatible.\n",
      "pytorch-lightning 1.5.10 requires torch>=1.7.*, but you have torch 1.5.0 which is incompatible.\n",
      "profanity-filter 1.3.3 requires ruamel.yaml<0.16.0,>=0.15.89, but you have ruamel-yaml 0.15.87 which is incompatible.\n",
      "profanity-filter 1.3.3 requires spacy<3.0,>=2.0, but you have spacy 3.1.2 which is incompatible.\n",
      "flair 0.10 requires sentencepiece==0.1.95, but you have sentencepiece 0.1.96 which is incompatible.\n",
      "datasets 1.13.0 requires tqdm>=4.62.1, but you have tqdm 4.48.1 which is incompatible.\n",
      "allennlp 2.7.0 requires torch<1.10.0,>=1.6.0, but you have torch 1.5.0 which is incompatible.\n",
      "allennlp 2.7.0 requires torchvision<0.11.0,>=0.8.1, but you have torchvision 0.6.0 which is incompatible.\n",
      "allennlp 2.7.0 requires transformers<4.10,>=4.1, but you have transformers 4.0.0 which is incompatible.\n",
      "allennlp-models 2.7.0 requires torch<1.10.0,>=1.7.0, but you have torch 1.5.0 which is incompatible.\n",
      "openprompt 0.1.2 requires scikit-learn>=0.24.2, but you have scikit-learn 0.23.1 which is incompatible.\n",
      "openprompt 0.1.2 requires tqdm>=4.62.2, but you have tqdm 4.48.1 which is incompatible.\n",
      "openprompt 0.1.2 requires transformers>=4.10.0, but you have transformers 4.0.0 which is incompatible.\u001b[0m\u001b[31m\n",
      "\u001b[0mSuccessfully installed tokenizers-0.9.4 tqdm-4.48.1 transformers-4.0.0\n"
     ]
    }
   ],
   "source": [
    "!pip install -r requirements.txt"
   ]
  },
  {
   "cell_type": "code",
   "execution_count": 4,
   "metadata": {
    "colab": {
     "base_uri": "https://localhost:8080/"
    },
    "id": "dMEElcClBgFR",
    "outputId": "e3912e15-fa9a-424c-8498-36d7ba463bbb"
   },
   "outputs": [
    {
     "name": "stdout",
     "output_type": "stream",
     "text": [
      "/Users/david/Desktop/CTPA/ADAPET\r\n"
     ]
    }
   ],
   "source": [
    "!pwd"
   ]
  },
  {
   "cell_type": "code",
   "execution_count": 5,
   "metadata": {
    "colab": {
     "base_uri": "https://localhost:8080/"
    },
    "id": "2YVsFolCBUd6",
    "outputId": "6231c532-9785-49bd-c612-460487875aec"
   },
   "outputs": [
    {
     "name": "stdout",
     "output_type": "stream",
     "text": [
      "env: ADAPET_ROOT=/content/drive/MyDrive/ADAPET\n",
      "env: PYTHONPATH=$ADAPET_ROOT:$PYTHONPATH\n",
      "env: PYTHON_EXEC=python\n"
     ]
    }
   ],
   "source": [
    "%env ADAPET_ROOT= /content/drive/MyDrive/ADAPET\n",
    "%env PYTHONPATH=$ADAPET_ROOT:$PYTHONPATH\n",
    "%env PYTHON_EXEC=python"
   ]
  },
  {
   "cell_type": "code",
   "execution_count": 6,
   "metadata": {
    "id": "BBIUeIL59kJM"
   },
   "outputs": [],
   "source": [
    "# !rm -r exp_out"
   ]
  },
  {
   "cell_type": "code",
   "execution_count": 7,
   "metadata": {
    "id": "gcnXQwqUKxZC"
   },
   "outputs": [],
   "source": [
    "import pandas as pd\n",
    "from sklearn.model_selection import train_test_split, StratifiedKFold"
   ]
  },
  {
   "cell_type": "code",
   "execution_count": null,
   "metadata": {
    "id": "DOl1yHEoOg4g"
   },
   "outputs": [],
   "source": [
    "df = pd.read_excel(\"PE_combined.xlsx\")\n",
    "df.drop(columns=['Unnamed: 0','Accession Number'],inplace=True)\n",
    "df['doc'] = df['doc'].replace(r'\\s+|\\\\n', ' ', regex=True) \n",
    "df['target'] = df['target'].replace({'Definitive PE NEG':'0'})\n",
    "df['target'] = df['target'].replace({'Definitive PE POS':'2'})\n",
    "df['target'] = df['target'].replace({'Probable PE NEG':'1'})\n",
    "df['target'] = df['target'].replace({'Probable PE POS':'1'})\n",
    "df['target'] = df['target'].replace({'Indeterminate':'inconclusive'})\n",
    "df['target'] = df['target'].replace({'Non-diagnostic':'inconclusive'})\n",
    "df = df[df['target'] != 'inconclusive']"
   ]
  },
  {
   "cell_type": "code",
   "execution_count": null,
   "metadata": {
    "id": "R23JyDO9qHi1"
   },
   "outputs": [],
   "source": [
    "train_df,test_df = train_test_split(df, test_size=0.2,stratify=df['target'],random_state=15)"
   ]
  },
  {
   "cell_type": "code",
   "execution_count": null,
   "metadata": {
    "colab": {
     "base_uri": "https://localhost:8080/",
     "height": 424
    },
    "id": "S7l6sUPH299P",
    "outputId": "57e8a329-f455-4af1-d338-83aa55afc7b1"
   },
   "outputs": [
    {
     "data": {
      "text/html": [
       "\n",
       "  <div id=\"df-bad6f9e8-dcd3-479d-838a-d8f689f3a017\">\n",
       "    <div class=\"colab-df-container\">\n",
       "      <div>\n",
       "<style scoped>\n",
       "    .dataframe tbody tr th:only-of-type {\n",
       "        vertical-align: middle;\n",
       "    }\n",
       "\n",
       "    .dataframe tbody tr th {\n",
       "        vertical-align: top;\n",
       "    }\n",
       "\n",
       "    .dataframe thead th {\n",
       "        text-align: right;\n",
       "    }\n",
       "</style>\n",
       "<table border=\"1\" class=\"dataframe\">\n",
       "  <thead>\n",
       "    <tr style=\"text-align: right;\">\n",
       "      <th></th>\n",
       "      <th>TEXT1</th>\n",
       "      <th>LBL</th>\n",
       "    </tr>\n",
       "  </thead>\n",
       "  <tbody>\n",
       "    <tr>\n",
       "      <th>55</th>\n",
       "      <td>1. No evidence of pulmonary embolism. 2. Multi...</td>\n",
       "      <td>negative</td>\n",
       "    </tr>\n",
       "    <tr>\n",
       "      <th>70</th>\n",
       "      <td>1. No pulmonary embolism. Enlargement of the c...</td>\n",
       "      <td>negative</td>\n",
       "    </tr>\n",
       "    <tr>\n",
       "      <th>106</th>\n",
       "      <td>1.No definite evidence of pulmonary embolism. ...</td>\n",
       "      <td>probable</td>\n",
       "    </tr>\n",
       "    <tr>\n",
       "      <th>74</th>\n",
       "      <td>1. No evidence of pulmonary embolism. 2. No fo...</td>\n",
       "      <td>negative</td>\n",
       "    </tr>\n",
       "    <tr>\n",
       "      <th>150</th>\n",
       "      <td>Suboptimal bolus timing for evaluation of the ...</td>\n",
       "      <td>probable</td>\n",
       "    </tr>\n",
       "    <tr>\n",
       "      <th>...</th>\n",
       "      <td>...</td>\n",
       "      <td>...</td>\n",
       "    </tr>\n",
       "    <tr>\n",
       "      <th>33</th>\n",
       "      <td>1. No pulmonary embolism. 2. Findings of CHF i...</td>\n",
       "      <td>negative</td>\n",
       "    </tr>\n",
       "    <tr>\n",
       "      <th>24</th>\n",
       "      <td>1. No pulmonary embolism. Enlargement of the c...</td>\n",
       "      <td>negative</td>\n",
       "    </tr>\n",
       "    <tr>\n",
       "      <th>110</th>\n",
       "      <td>1. No pulmonary embolism. 2. Mildly enlarged m...</td>\n",
       "      <td>negative</td>\n",
       "    </tr>\n",
       "    <tr>\n",
       "      <th>65</th>\n",
       "      <td>No evidence of central pulmonary embolism. The...</td>\n",
       "      <td>probable</td>\n",
       "    </tr>\n",
       "    <tr>\n",
       "      <th>143</th>\n",
       "      <td>There is a pulmonary embolus present in a left...</td>\n",
       "      <td>positive</td>\n",
       "    </tr>\n",
       "  </tbody>\n",
       "</table>\n",
       "<p>121 rows × 2 columns</p>\n",
       "</div>\n",
       "      <button class=\"colab-df-convert\" onclick=\"convertToInteractive('df-bad6f9e8-dcd3-479d-838a-d8f689f3a017')\"\n",
       "              title=\"Convert this dataframe to an interactive table.\"\n",
       "              style=\"display:none;\">\n",
       "        \n",
       "  <svg xmlns=\"http://www.w3.org/2000/svg\" height=\"24px\"viewBox=\"0 0 24 24\"\n",
       "       width=\"24px\">\n",
       "    <path d=\"M0 0h24v24H0V0z\" fill=\"none\"/>\n",
       "    <path d=\"M18.56 5.44l.94 2.06.94-2.06 2.06-.94-2.06-.94-.94-2.06-.94 2.06-2.06.94zm-11 1L8.5 8.5l.94-2.06 2.06-.94-2.06-.94L8.5 2.5l-.94 2.06-2.06.94zm10 10l.94 2.06.94-2.06 2.06-.94-2.06-.94-.94-2.06-.94 2.06-2.06.94z\"/><path d=\"M17.41 7.96l-1.37-1.37c-.4-.4-.92-.59-1.43-.59-.52 0-1.04.2-1.43.59L10.3 9.45l-7.72 7.72c-.78.78-.78 2.05 0 2.83L4 21.41c.39.39.9.59 1.41.59.51 0 1.02-.2 1.41-.59l7.78-7.78 2.81-2.81c.8-.78.8-2.07 0-2.86zM5.41 20L4 18.59l7.72-7.72 1.47 1.35L5.41 20z\"/>\n",
       "  </svg>\n",
       "      </button>\n",
       "      \n",
       "  <style>\n",
       "    .colab-df-container {\n",
       "      display:flex;\n",
       "      flex-wrap:wrap;\n",
       "      gap: 12px;\n",
       "    }\n",
       "\n",
       "    .colab-df-convert {\n",
       "      background-color: #E8F0FE;\n",
       "      border: none;\n",
       "      border-radius: 50%;\n",
       "      cursor: pointer;\n",
       "      display: none;\n",
       "      fill: #1967D2;\n",
       "      height: 32px;\n",
       "      padding: 0 0 0 0;\n",
       "      width: 32px;\n",
       "    }\n",
       "\n",
       "    .colab-df-convert:hover {\n",
       "      background-color: #E2EBFA;\n",
       "      box-shadow: 0px 1px 2px rgba(60, 64, 67, 0.3), 0px 1px 3px 1px rgba(60, 64, 67, 0.15);\n",
       "      fill: #174EA6;\n",
       "    }\n",
       "\n",
       "    [theme=dark] .colab-df-convert {\n",
       "      background-color: #3B4455;\n",
       "      fill: #D2E3FC;\n",
       "    }\n",
       "\n",
       "    [theme=dark] .colab-df-convert:hover {\n",
       "      background-color: #434B5C;\n",
       "      box-shadow: 0px 1px 3px 1px rgba(0, 0, 0, 0.15);\n",
       "      filter: drop-shadow(0px 1px 2px rgba(0, 0, 0, 0.3));\n",
       "      fill: #FFFFFF;\n",
       "    }\n",
       "  </style>\n",
       "\n",
       "      <script>\n",
       "        const buttonEl =\n",
       "          document.querySelector('#df-bad6f9e8-dcd3-479d-838a-d8f689f3a017 button.colab-df-convert');\n",
       "        buttonEl.style.display =\n",
       "          google.colab.kernel.accessAllowed ? 'block' : 'none';\n",
       "\n",
       "        async function convertToInteractive(key) {\n",
       "          const element = document.querySelector('#df-bad6f9e8-dcd3-479d-838a-d8f689f3a017');\n",
       "          const dataTable =\n",
       "            await google.colab.kernel.invokeFunction('convertToInteractive',\n",
       "                                                     [key], {});\n",
       "          if (!dataTable) return;\n",
       "\n",
       "          const docLinkHtml = 'Like what you see? Visit the ' +\n",
       "            '<a target=\"_blank\" href=https://colab.research.google.com/notebooks/data_table.ipynb>data table notebook</a>'\n",
       "            + ' to learn more about interactive tables.';\n",
       "          element.innerHTML = '';\n",
       "          dataTable['output_type'] = 'display_data';\n",
       "          await google.colab.output.renderOutput(dataTable, element);\n",
       "          const docLink = document.createElement('div');\n",
       "          docLink.innerHTML = docLinkHtml;\n",
       "          element.appendChild(docLink);\n",
       "        }\n",
       "      </script>\n",
       "    </div>\n",
       "  </div>\n",
       "  "
      ],
      "text/plain": [
       "                                                 TEXT1       LBL\n",
       "55   1. No evidence of pulmonary embolism. 2. Multi...  negative\n",
       "70   1. No pulmonary embolism. Enlargement of the c...  negative\n",
       "106  1.No definite evidence of pulmonary embolism. ...  probable\n",
       "74   1. No evidence of pulmonary embolism. 2. No fo...  negative\n",
       "150  Suboptimal bolus timing for evaluation of the ...  probable\n",
       "..                                                 ...       ...\n",
       "33   1. No pulmonary embolism. 2. Findings of CHF i...  negative\n",
       "24   1. No pulmonary embolism. Enlargement of the c...  negative\n",
       "110  1. No pulmonary embolism. 2. Mildly enlarged m...  negative\n",
       "65   No evidence of central pulmonary embolism. The...  probable\n",
       "143  There is a pulmonary embolus present in a left...  positive\n",
       "\n",
       "[121 rows x 2 columns]"
      ]
     },
     "execution_count": 27,
     "metadata": {},
     "output_type": "execute_result"
    }
   ],
   "source": [
    "train_df"
   ]
  },
  {
   "cell_type": "code",
   "execution_count": null,
   "metadata": {
    "id": "qoDCayJ1Ohau"
   },
   "outputs": [],
   "source": [
    "pd.options.mode.chained_assignment = None  # default='warn'\n",
    "\n",
    "train_df.rename(columns={'target':'LBL','doc':'TEXT1'},inplace=True)\n",
    "train_df['LBL'].replace({'0':'negative'},inplace=True)\n",
    "train_df['LBL'].replace({'1':'probable'},inplace=True)\n",
    "train_df['LBL'].replace({'2':'positive'},inplace=True)\n",
    "\n",
    "test_df.rename(columns={'target':'LBL','doc':'TEXT1'},inplace=True)\n",
    "test_df['LBL'].replace({'0':'negative'},inplace=True)\n",
    "test_df['LBL'].replace({'1':'probable'},inplace=True)\n",
    "test_df['LBL'].replace({'2':'positive'},inplace=True)\n"
   ]
  },
  {
   "cell_type": "code",
   "execution_count": null,
   "metadata": {
    "colab": {
     "base_uri": "https://localhost:8080/",
     "height": 424
    },
    "id": "JlgpBxxysCCi",
    "outputId": "bf57036c-540d-4926-d83f-6a83e060fd9f"
   },
   "outputs": [
    {
     "data": {
      "text/html": [
       "\n",
       "  <div id=\"df-b8cb9c73-adc4-4548-92d5-157c92b78345\">\n",
       "    <div class=\"colab-df-container\">\n",
       "      <div>\n",
       "<style scoped>\n",
       "    .dataframe tbody tr th:only-of-type {\n",
       "        vertical-align: middle;\n",
       "    }\n",
       "\n",
       "    .dataframe tbody tr th {\n",
       "        vertical-align: top;\n",
       "    }\n",
       "\n",
       "    .dataframe thead th {\n",
       "        text-align: right;\n",
       "    }\n",
       "</style>\n",
       "<table border=\"1\" class=\"dataframe\">\n",
       "  <thead>\n",
       "    <tr style=\"text-align: right;\">\n",
       "      <th></th>\n",
       "      <th>TEXT1</th>\n",
       "      <th>LBL</th>\n",
       "    </tr>\n",
       "  </thead>\n",
       "  <tbody>\n",
       "    <tr>\n",
       "      <th>55</th>\n",
       "      <td>1. No evidence of pulmonary embolism. 2. Multi...</td>\n",
       "      <td>negative</td>\n",
       "    </tr>\n",
       "    <tr>\n",
       "      <th>70</th>\n",
       "      <td>1. No pulmonary embolism. Enlargement of the c...</td>\n",
       "      <td>negative</td>\n",
       "    </tr>\n",
       "    <tr>\n",
       "      <th>106</th>\n",
       "      <td>1.No definite evidence of pulmonary embolism. ...</td>\n",
       "      <td>probable</td>\n",
       "    </tr>\n",
       "    <tr>\n",
       "      <th>74</th>\n",
       "      <td>1. No evidence of pulmonary embolism. 2. No fo...</td>\n",
       "      <td>negative</td>\n",
       "    </tr>\n",
       "    <tr>\n",
       "      <th>150</th>\n",
       "      <td>Suboptimal bolus timing for evaluation of the ...</td>\n",
       "      <td>probable</td>\n",
       "    </tr>\n",
       "    <tr>\n",
       "      <th>...</th>\n",
       "      <td>...</td>\n",
       "      <td>...</td>\n",
       "    </tr>\n",
       "    <tr>\n",
       "      <th>33</th>\n",
       "      <td>1. No pulmonary embolism. 2. Findings of CHF i...</td>\n",
       "      <td>negative</td>\n",
       "    </tr>\n",
       "    <tr>\n",
       "      <th>24</th>\n",
       "      <td>1. No pulmonary embolism. Enlargement of the c...</td>\n",
       "      <td>negative</td>\n",
       "    </tr>\n",
       "    <tr>\n",
       "      <th>110</th>\n",
       "      <td>1. No pulmonary embolism. 2. Mildly enlarged m...</td>\n",
       "      <td>negative</td>\n",
       "    </tr>\n",
       "    <tr>\n",
       "      <th>65</th>\n",
       "      <td>No evidence of central pulmonary embolism. The...</td>\n",
       "      <td>probable</td>\n",
       "    </tr>\n",
       "    <tr>\n",
       "      <th>143</th>\n",
       "      <td>There is a pulmonary embolus present in a left...</td>\n",
       "      <td>positive</td>\n",
       "    </tr>\n",
       "  </tbody>\n",
       "</table>\n",
       "<p>121 rows × 2 columns</p>\n",
       "</div>\n",
       "      <button class=\"colab-df-convert\" onclick=\"convertToInteractive('df-b8cb9c73-adc4-4548-92d5-157c92b78345')\"\n",
       "              title=\"Convert this dataframe to an interactive table.\"\n",
       "              style=\"display:none;\">\n",
       "        \n",
       "  <svg xmlns=\"http://www.w3.org/2000/svg\" height=\"24px\"viewBox=\"0 0 24 24\"\n",
       "       width=\"24px\">\n",
       "    <path d=\"M0 0h24v24H0V0z\" fill=\"none\"/>\n",
       "    <path d=\"M18.56 5.44l.94 2.06.94-2.06 2.06-.94-2.06-.94-.94-2.06-.94 2.06-2.06.94zm-11 1L8.5 8.5l.94-2.06 2.06-.94-2.06-.94L8.5 2.5l-.94 2.06-2.06.94zm10 10l.94 2.06.94-2.06 2.06-.94-2.06-.94-.94-2.06-.94 2.06-2.06.94z\"/><path d=\"M17.41 7.96l-1.37-1.37c-.4-.4-.92-.59-1.43-.59-.52 0-1.04.2-1.43.59L10.3 9.45l-7.72 7.72c-.78.78-.78 2.05 0 2.83L4 21.41c.39.39.9.59 1.41.59.51 0 1.02-.2 1.41-.59l7.78-7.78 2.81-2.81c.8-.78.8-2.07 0-2.86zM5.41 20L4 18.59l7.72-7.72 1.47 1.35L5.41 20z\"/>\n",
       "  </svg>\n",
       "      </button>\n",
       "      \n",
       "  <style>\n",
       "    .colab-df-container {\n",
       "      display:flex;\n",
       "      flex-wrap:wrap;\n",
       "      gap: 12px;\n",
       "    }\n",
       "\n",
       "    .colab-df-convert {\n",
       "      background-color: #E8F0FE;\n",
       "      border: none;\n",
       "      border-radius: 50%;\n",
       "      cursor: pointer;\n",
       "      display: none;\n",
       "      fill: #1967D2;\n",
       "      height: 32px;\n",
       "      padding: 0 0 0 0;\n",
       "      width: 32px;\n",
       "    }\n",
       "\n",
       "    .colab-df-convert:hover {\n",
       "      background-color: #E2EBFA;\n",
       "      box-shadow: 0px 1px 2px rgba(60, 64, 67, 0.3), 0px 1px 3px 1px rgba(60, 64, 67, 0.15);\n",
       "      fill: #174EA6;\n",
       "    }\n",
       "\n",
       "    [theme=dark] .colab-df-convert {\n",
       "      background-color: #3B4455;\n",
       "      fill: #D2E3FC;\n",
       "    }\n",
       "\n",
       "    [theme=dark] .colab-df-convert:hover {\n",
       "      background-color: #434B5C;\n",
       "      box-shadow: 0px 1px 3px 1px rgba(0, 0, 0, 0.15);\n",
       "      filter: drop-shadow(0px 1px 2px rgba(0, 0, 0, 0.3));\n",
       "      fill: #FFFFFF;\n",
       "    }\n",
       "  </style>\n",
       "\n",
       "      <script>\n",
       "        const buttonEl =\n",
       "          document.querySelector('#df-b8cb9c73-adc4-4548-92d5-157c92b78345 button.colab-df-convert');\n",
       "        buttonEl.style.display =\n",
       "          google.colab.kernel.accessAllowed ? 'block' : 'none';\n",
       "\n",
       "        async function convertToInteractive(key) {\n",
       "          const element = document.querySelector('#df-b8cb9c73-adc4-4548-92d5-157c92b78345');\n",
       "          const dataTable =\n",
       "            await google.colab.kernel.invokeFunction('convertToInteractive',\n",
       "                                                     [key], {});\n",
       "          if (!dataTable) return;\n",
       "\n",
       "          const docLinkHtml = 'Like what you see? Visit the ' +\n",
       "            '<a target=\"_blank\" href=https://colab.research.google.com/notebooks/data_table.ipynb>data table notebook</a>'\n",
       "            + ' to learn more about interactive tables.';\n",
       "          element.innerHTML = '';\n",
       "          dataTable['output_type'] = 'display_data';\n",
       "          await google.colab.output.renderOutput(dataTable, element);\n",
       "          const docLink = document.createElement('div');\n",
       "          docLink.innerHTML = docLinkHtml;\n",
       "          element.appendChild(docLink);\n",
       "        }\n",
       "      </script>\n",
       "    </div>\n",
       "  </div>\n",
       "  "
      ],
      "text/plain": [
       "                                                 TEXT1       LBL\n",
       "55   1. No evidence of pulmonary embolism. 2. Multi...  negative\n",
       "70   1. No pulmonary embolism. Enlargement of the c...  negative\n",
       "106  1.No definite evidence of pulmonary embolism. ...  probable\n",
       "74   1. No evidence of pulmonary embolism. 2. No fo...  negative\n",
       "150  Suboptimal bolus timing for evaluation of the ...  probable\n",
       "..                                                 ...       ...\n",
       "33   1. No pulmonary embolism. 2. Findings of CHF i...  negative\n",
       "24   1. No pulmonary embolism. Enlargement of the c...  negative\n",
       "110  1. No pulmonary embolism. 2. Mildly enlarged m...  negative\n",
       "65   No evidence of central pulmonary embolism. The...  probable\n",
       "143  There is a pulmonary embolus present in a left...  positive\n",
       "\n",
       "[121 rows x 2 columns]"
      ]
     },
     "execution_count": 21,
     "metadata": {},
     "output_type": "execute_result"
    }
   ],
   "source": [
    "train_df"
   ]
  },
  {
   "cell_type": "code",
   "execution_count": null,
   "metadata": {
    "id": "8enxuy0AQ0lr"
   },
   "outputs": [],
   "source": [
    "train_df.to_json('data/my_task/train.jsonl',lines=True,orient='records')\n",
    "test_df.to_json('data/my_task/test.jsonl',lines=True,orient='records')"
   ]
  },
  {
   "cell_type": "code",
   "execution_count": null,
   "metadata": {
    "colab": {
     "base_uri": "https://localhost:8080/"
    },
    "id": "9MKd7FUzY_zp",
    "outputId": "d921251c-fd3d-4f1c-857e-50083eb9b35d"
   },
   "outputs": [
    {
     "name": "stdout",
     "output_type": "stream",
     "text": [
      "GPU 0: Tesla T4 (UUID: GPU-c2e6525e-6404-4205-c5c2-2499a82d5f9b)\n"
     ]
    }
   ],
   "source": [
    "!nvidia-smi -L"
   ]
  },
  {
   "cell_type": "markdown",
   "metadata": {
    "id": "SlcPNvQVkCBL"
   },
   "source": [
    "## PROMPT SEARCH\n",
    "\"The diagnosis is\" \n",
    "\n",
    "\"Pulmonary embolism is\"\n",
    "\n",
    "\"Existence of pulmonary embolism is\""
   ]
  },
  {
   "cell_type": "code",
   "execution_count": null,
   "metadata": {
    "id": "DnEdBMKpZGTs"
   },
   "outputs": [],
   "source": [
    "skf = StratifiedKFold(n_splits=5)"
   ]
  },
  {
   "cell_type": "code",
   "execution_count": null,
   "metadata": {
    "colab": {
     "base_uri": "https://localhost:8080/"
    },
    "id": "dIG0GUAtY_3n",
    "outputId": "b6063f34-caaf-4a32-c18e-367a04fd340e"
   },
   "outputs": [
    {
     "name": "stdout",
     "output_type": "stream",
     "text": [
      "RuntimeError: module compiled against API version 0xe but this version of numpy is 0xd\n",
      "Downloading: 100% 710/710 [00:00<00:00, 628kB/s]\n",
      "Downloading: 100% 760k/760k [00:00<00:00, 2.20MB/s]\n",
      "Downloading: 100% 1.31M/1.31M [00:00<00:00, 2.55MB/s]\n",
      "Downloading: 100% 893M/893M [00:08<00:00, 103MB/s]\n",
      "RuntimeError: module compiled against API version 0xe but this version of numpy is 0xd\n",
      "RuntimeError: module compiled against API version 0xe but this version of numpy is 0xd\n",
      "RuntimeError: module compiled against API version 0xe but this version of numpy is 0xd\n",
      "RuntimeError: module compiled against API version 0xe but this version of numpy is 0xd\n"
     ]
    }
   ],
   "source": [
    "i = 0\n",
    "for train_index, test_index in skf.split(train_df['TEXT1'], train_df['LBL']):\n",
    "    t_df = train_df.iloc[train_index]\n",
    "    v_df = train_df.iloc[test_index]\n",
    "    t_df.to_json('data/my_task/train.jsonl',lines=True,orient='records')\n",
    "    v_df.to_json('data/my_task/test.jsonl',lines=True,orient='records')\n",
    "    if i == 0:\n",
    "        !python cli.py --data_dir data/my_task --pattern '[TEXT1] The diagnosis is [LBL]'  --dict_verbalizer '{\"negative\": \"negative\", \"probable\": \"probable\",\"positive\":\"positive\"}' --num_batches 50  --dir_names 'v1f1'\n",
    "    elif i == 1:\n",
    "        !python cli.py --data_dir data/my_task --pattern '[TEXT1] The diagnosis is [LBL]'  --dict_verbalizer '{\"negative\": \"negative\", \"probable\": \"probable\",\"positive\":\"positive\"}' --num_batches 50 --dir_names 'v1f2'\n",
    "    elif i == 2:\n",
    "        !python cli.py --data_dir data/my_task --pattern '[TEXT1] The diagnosis is [LBL]'  --dict_verbalizer '{\"negative\": \"negative\", \"probable\": \"probable\",\"positive\":\"positive\"}' --num_batches 50 --dir_names 'v1f3'\n",
    "    elif i == 3:\n",
    "        !python cli.py --data_dir data/my_task --pattern '[TEXT1] The diagnosis is [LBL]'  --dict_verbalizer '{\"negative\": \"negative\", \"probable\": \"probable\",\"positive\":\"positive\"}' --num_batches 50 --dir_names 'v1f4'\n",
    "    elif i == 4:\n",
    "        !python cli.py --data_dir data/my_task --pattern '[TEXT1] The diagnosis is [LBL]'  --dict_verbalizer '{\"negative\": \"negative\", \"probable\": \"probable\",\"positive\":\"positive\"}' --num_batches 50  --dir_names 'v1f5'\n",
    "    i+= 1\n"
   ]
  },
  {
   "cell_type": "code",
   "execution_count": null,
   "metadata": {
    "id": "i4vAQEtE4oGF"
   },
   "outputs": [],
   "source": [
    "i = 0\n",
    "for train_index, test_index in skf.split(train_df['TEXT1'], train_df['LBL']):\n",
    "    t_df = train_df.iloc[train_index]\n",
    "    v_df = train_df.iloc[test_index]\n",
    "    t_df.to_json('data/my_task/train.jsonl',lines=True,orient='records')\n",
    "    v_df.to_json('data/my_task/test.jsonl',lines=True,orient='records')\n",
    "    if i == 0:\n",
    "        !python cli.py --data_dir data/my_task --pattern '[TEXT1] Pulmonary embolism is [LBL]'  --dict_verbalizer '{\"negative\": \"negative\", \"probable\": \"probable\",\"positive\":\"positive\"}' --num_batches 50  --dir_names 'v2f1'\n",
    "    elif i == 1:\n",
    "        !python cli.py --data_dir data/my_task --pattern '[TEXT1] Pulmonary embolism is [LBL]'  --dict_verbalizer '{\"negative\": \"negative\", \"probable\": \"probable\",\"positive\":\"positive\"}' --num_batches 50 --dir_names 'v2f2'\n",
    "    elif i == 2:\n",
    "        !python cli.py --data_dir data/my_task --pattern '[TEXT1] Pulmonary embolism is [LBL]'  --dict_verbalizer '{\"negative\": \"negative\", \"probable\": \"probable\",\"positive\":\"positive\"}' --num_batches 50 --dir_names 'v2f3'\n",
    "    elif i == 3:\n",
    "        !python cli.py --data_dir data/my_task --pattern '[TEXT1] Pulmonary embolism is [LBL]'  --dict_verbalizer '{\"negative\": \"negative\", \"probable\": \"probable\",\"positive\":\"positive\"}' --num_batches 50 --dir_names 'v2f4'\n",
    "    elif i == 4:\n",
    "        !python cli.py --data_dir data/my_task --pattern '[TEXT1] Pulmonary embolism is [LBL]'  --dict_verbalizer '{\"negative\": \"negative\", \"probable\": \"probable\",\"positive\":\"positive\"}' --num_batches 50  --dir_names 'v2f5'\n",
    "    i+= 1"
   ]
  },
  {
   "cell_type": "code",
   "execution_count": null,
   "metadata": {
    "id": "PxHetfw8_npd"
   },
   "outputs": [],
   "source": []
  },
  {
   "cell_type": "code",
   "execution_count": null,
   "metadata": {
    "id": "LvqsB4wQWul6"
   },
   "outputs": [],
   "source": [
    "# !sh bin/test.sh exp_out/generic/albert-xxlarge-v2/v1f1/\n",
    "# !sh bin/test.sh exp_out/generic/albert-xxlarge-v2/v1f2/\n",
    "# !sh bin/test.sh exp_out/generic/albert-xxlarge-v2/v1f3/\n",
    "# !sh bin/test.sh exp_out/generic/albert-xxlarge-v2/v1f4/\n",
    "# !sh bin/test.sh exp_out/generic/albert-xxlarge-v2/v1f5/\n",
    "# saves = ['v1f1','v1f2','v1f3','v1f4','v1f5',]\n",
    "# import pandas as pd\n",
    "# from sklearn.metrics import classification_report\n",
    "# for save in saves:\n",
    "#     predictions = pd.read_json(f\"exp_out/generic/albert-xxlarge-v2/{save}/test.json\",lines=True)\n",
    "#     truth = pd.read_json(\"data/my_task/test.jsonl\",lines=True)\n",
    "#     print(classification_report(list(truth['LBL']),list(predictions['label'])))"
   ]
  },
  {
   "cell_type": "markdown",
   "metadata": {
    "id": "iQ2FUdnqk73u"
   },
   "source": [
    "## TEST"
   ]
  },
  {
   "cell_type": "code",
   "execution_count": null,
   "metadata": {
    "colab": {
     "base_uri": "https://localhost:8080/"
    },
    "id": "n3WZCu04ZbRr",
    "outputId": "59f0ecd1-8297-41fd-caeb-a713b5b87606"
   },
   "outputs": [
    {
     "name": "stdout",
     "output_type": "stream",
     "text": [
      "RuntimeError: module compiled against API version 0xe but this version of numpy is 0xd\n"
     ]
    }
   ],
   "source": [
    "!python cli.py --data_dir data/my_task --pattern '[TEXT1] Pulmonary embolism is [LBL]'  --dict_verbalizer '{\"negative\": \"negative\", \"probable\": \"probable\",\"positive\":\"positive\"}' --num_batches 50  --dir_names 't1'"
   ]
  },
  {
   "cell_type": "code",
   "execution_count": null,
   "metadata": {
    "colab": {
     "base_uri": "https://localhost:8080/"
    },
    "id": "rxsiC1FkgwzO",
    "outputId": "d19c1376-0fea-4823-c147-fbd132b7bbaa"
   },
   "outputs": [
    {
     "name": "stdout",
     "output_type": "stream",
     "text": [
      "+ exp_dir=exp_out/generic/albert-xxlarge-v2/t1/\n",
      "+ python -m src.test -e exp_out/generic/albert-xxlarge-v2/t1/\n",
      "RuntimeError: module compiled against API version 0xe but this version of numpy is 0xd\n",
      "              precision    recall  f1-score   support\n",
      "\n",
      "    negative       1.00      0.95      0.97        20\n",
      "    positive       0.67      0.80      0.73         5\n",
      "    probable       0.83      0.83      0.83         6\n",
      "\n",
      "    accuracy                           0.90        31\n",
      "   macro avg       0.83      0.86      0.84        31\n",
      "weighted avg       0.91      0.90      0.91        31\n",
      "\n"
     ]
    }
   ],
   "source": [
    "!sh bin/test.sh exp_out/generic/albert-xxlarge-v2/t1/\n",
    "predictions = pd.read_json(f\"exp_out/generic/albert-xxlarge-v2/t1/test.json\",lines=True)\n",
    "truth = pd.read_json(\"data/my_task/test.jsonl\",lines=True)\n",
    "from sklearn.metrics import classification_report\n",
    "print(classification_report(list(truth['LBL']),list(predictions['label'])))"
   ]
  },
  {
   "cell_type": "code",
   "execution_count": null,
   "metadata": {
    "id": "AJGnzX4i0Tuo"
   },
   "outputs": [],
   "source": []
  }
 ],
 "metadata": {
  "accelerator": "GPU",
  "colab": {
   "machine_shape": "hm",
   "provenance": []
  },
  "gpuClass": "standard",
  "kernelspec": {
   "display_name": "Python 3",
   "language": "python",
   "name": "python3"
  },
  "language_info": {
   "codemirror_mode": {
    "name": "ipython",
    "version": 3
   },
   "file_extension": ".py",
   "mimetype": "text/x-python",
   "name": "python",
   "nbconvert_exporter": "python",
   "pygments_lexer": "ipython3",
   "version": "3.7.6"
  }
 },
 "nbformat": 4,
 "nbformat_minor": 1
}
